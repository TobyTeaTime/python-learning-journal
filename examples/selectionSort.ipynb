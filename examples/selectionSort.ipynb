{
 "cells": [
  {
   "cell_type": "markdown",
   "metadata": {},
   "source": [
    "uArray=[1, 5, 6, 2, 4]\n",
    "def selectionSort(array):\n",
    "    for i in array:\n",
    "        elem = i\n",
    "        if array[i] < array[i+1]:\n",
    "            return True\n",
    "        if array[i] < array[i+1]:\n",
    "            array.insert[i, i+1]\n",
    "            selectionSort()\n",
    "    print(array)\n"
   ]
  },
  {
   "cell_type": "markdown",
   "metadata": {},
   "source": [
    "selectionSort(uArray)"
   ]
  },
  {
   "cell_type": "code",
   "execution_count": 11,
   "metadata": {},
   "outputs": [],
   "source": [
    "def selectionSort(arr):\n",
    "    for i in range(len(arr)):\n",
    "        firstUnsorted = i\n",
    "        for j in range(i+1, len(arr)):\n",
    "            if arr[j] < arr[firstUnsorted]:\n",
    "                firstUnsorted = j\n",
    "        arr[i], arr[firstUnsorted] = arr[firstUnsorted], arr[i]"
   ]
  },
  {
   "cell_type": "code",
   "execution_count": 12,
   "metadata": {},
   "outputs": [
    {
     "name": "stdout",
     "output_type": "stream",
     "text": [
      "Original array:  [64, 32, 16, 8, 4, 2]\n",
      "Sorted array:  [2, 4, 8, 16, 32, 64]\n"
     ]
    }
   ],
   "source": [
    "arr = [64, 32, 16, 8, 4, 2]\n",
    "print(\"Original array: \", arr)\n",
    "selectionSort(arr)\n",
    "print(\"Sorted array: \", arr)"
   ]
  },
  {
   "cell_type": "code",
   "execution_count": 15,
   "metadata": {},
   "outputs": [],
   "source": [
    "def insertionSort(arr):\n",
    "    n = len(arr) # length of the array\n",
    "    if n<= 1:\n",
    "        return # if array has 0 or 1, already sorted and exits\n",
    "    for i in range (1, n): # iterate over the array starting from second element\n",
    "        key = arr[i] # store current element as the key to be inserted in the right position\n",
    "        j = i-1\n",
    "        while j >= 0 and key < arr[j]: # move elements greater than key one position ahead\n",
    "            arr[j+1] = arr[j] # Shift elements to the right\n",
    "            j -= 1\n",
    "        arr[j+1] = key # Insert the key in the correct position"
   ]
  },
  {
   "cell_type": "code",
   "execution_count": 16,
   "metadata": {},
   "outputs": [
    {
     "name": "stdout",
     "output_type": "stream",
     "text": [
      "[5, 6, 11, 12, 13]\n"
     ]
    }
   ],
   "source": [
    "arr = [12, 11, 13, 5, 6]\n",
    "insertionSort(arr)\n",
    "print(arr)"
   ]
  },
  {
   "cell_type": "code",
   "execution_count": 18,
   "metadata": {},
   "outputs": [],
   "source": [
    "def insertionSort1(arr):\n",
    "    for i in range(1, len(arr)):\n",
    "        nextValue = arr[i]\n",
    "        j=i-1\n",
    "        while j >= 0 and nextValue < arr[j]:\n",
    "            arr[j+1] = arr[j]\n",
    "            j -= 1\n",
    "        arr [j+1] = nextValue"
   ]
  },
  {
   "cell_type": "code",
   "execution_count": 19,
   "metadata": {},
   "outputs": [
    {
     "name": "stdout",
     "output_type": "stream",
     "text": [
      "Original array:  [64, 32, 16, 8, 4, 2]\n",
      "Sorted array:  [2, 4, 8, 16, 32, 64]\n"
     ]
    },
    {
     "ename": "",
     "evalue": "",
     "output_type": "error",
     "traceback": [
      "\u001b[1;31mThe Kernel crashed while executing code in the current cell or a previous cell. \n",
      "\u001b[1;31mPlease review the code in the cell(s) to identify a possible cause of the failure. \n",
      "\u001b[1;31mClick <a href='https://aka.ms/vscodeJupyterKernelCrash'>here</a> for more info. \n",
      "\u001b[1;31mView Jupyter <a href='command:jupyter.viewOutput'>log</a> for further details."
     ]
    }
   ],
   "source": [
    "arr = [64, 32, 16, 8, 4, 2]\n",
    "print(\"Original array: \", arr)\n",
    "insertionSort1(arr)\n",
    "print(\"Sorted array: \", arr)"
   ]
  }
 ],
 "metadata": {
  "kernelspec": {
   "display_name": "Python 3",
   "language": "python",
   "name": "python3"
  },
  "language_info": {
   "codemirror_mode": {
    "name": "ipython",
    "version": 3
   },
   "file_extension": ".py",
   "mimetype": "text/x-python",
   "name": "python",
   "nbconvert_exporter": "python",
   "pygments_lexer": "ipython3",
   "version": "3.12.6"
  }
 },
 "nbformat": 4,
 "nbformat_minor": 2
}
