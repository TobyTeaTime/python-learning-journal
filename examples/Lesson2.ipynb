{
 "cells": [
  {
   "cell_type": "code",
   "execution_count": 10,
   "metadata": {},
   "outputs": [
    {
     "name": "stdout",
     "output_type": "stream",
     "text": [
      "wrong password\n"
     ]
    }
   ],
   "source": [
    "with open (\"example.txt\", \"r\") as file:\n",
    "    content = file.read()\n",
    "    usr = input(\"Enter Username: \")\n",
    "    pwd = input(\"Enter Password: \")\n",
    "    if pwd in content:\n",
    "        print (\"logged in\")\n",
    "    else:\n",
    "        print (\"wrong password\")"
   ]
  },
  {
   "cell_type": "code",
   "execution_count": 9,
   "metadata": {},
   "outputs": [
    {
     "name": "stdout",
     "output_type": "stream",
     "text": [
      "Login Failed\n"
     ]
    }
   ],
   "source": [
    "credentials = {}\n",
    "\n",
    "with open(\"example.txt\", \"r\") as file:\n",
    "    for line in file:\n",
    "        parts = line.strip().split() # gets rid of \\n\n",
    "        if len(parts) == 2:\n",
    "            username, password = parts[0], parts[1]\n",
    "            credentials[username] = password\n",
    "\n",
    "user = input(\"Enter Username: \")\n",
    "pwd = input(\"Enter Password: \")\n",
    "\n",
    "if user in credentials and credentials[user] == pwd:\n",
    "    print (\"Access Granted\")\n",
    "else:\n",
    "    print (\"Login Failed\")"
   ]
  },
  {
   "cell_type": "code",
   "execution_count": 20,
   "metadata": {},
   "outputs": [
    {
     "name": "stdout",
     "output_type": "stream",
     "text": [
      "1\n",
      "2\n",
      "3\n",
      "4\n"
     ]
    }
   ],
   "source": [
    "def writeVertical(n):\n",
    "    if n < 0:\n",
    "        print(\"-\")\n",
    "        writeVertical(-n)\n",
    "    elif n < 10:\n",
    "        print(n)\n",
    "    else:\n",
    "        writeVertical(n // 10)\n",
    "        print(n % 10)\n",
    "\n",
    "writeVertical(1234)"
   ]
  }
 ],
 "metadata": {
  "kernelspec": {
   "display_name": "Python 3",
   "language": "python",
   "name": "python3"
  },
  "language_info": {
   "codemirror_mode": {
    "name": "ipython",
    "version": 3
   },
   "file_extension": ".py",
   "mimetype": "text/x-python",
   "name": "python",
   "nbconvert_exporter": "python",
   "pygments_lexer": "ipython3",
   "version": "3.12.6"
  }
 },
 "nbformat": 4,
 "nbformat_minor": 2
}
