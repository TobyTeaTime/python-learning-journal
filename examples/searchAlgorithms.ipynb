{
 "cells": [
  {
   "cell_type": "markdown",
   "metadata": {},
   "source": [
    "mylist = [2, 3, 6, 4] \n",
    "mylist2 = [1]\n",
    "def linearSearch (list, target, index):\n",
    "    if len(list) == 1:\n",
    "        return list[0]\n",
    "    if len(list) == 0:\n",
    "        return False\n",
    "    \n",
    "    \n",
    "\n",
    "linearSearch(mylist, 3, 0)"
   ]
  },
  {
   "cell_type": "code",
   "execution_count": 1,
   "metadata": {},
   "outputs": [],
   "source": [
    "import random\n",
    "import time"
   ]
  },
  {
   "cell_type": "code",
   "execution_count": 2,
   "metadata": {},
   "outputs": [],
   "source": [
    "def linearSearch(arr, target):\n",
    "    for i in range(len(arr)):\n",
    "        if arr[i] == target:\n",
    "            return i\n",
    "        \n",
    "    return -1\n",
    "\n",
    "# Constant time operations\n",
    "# == comparing two items \n",
    "# ++ aggregating 1 to i to step through the list\n",
    "# [] indexing everything in the list"
   ]
  },
  {
   "cell_type": "code",
   "execution_count": 3,
   "metadata": {},
   "outputs": [],
   "source": [
    "mylist = [1, 2, 3, 4, 5]\n",
    "target = 4\n",
    "\n",
    "def binarySearch(arr, target, m):\n",
    "    if len(arr) == 1:\n",
    "        return arr[0]\n",
    "    if len(arr) == 0:\n",
    "        return -1\n",
    "    if arr[m] == target:\n",
    "        return arr[m]\n",
    "    \n",
    "    m = len(arr) // 2\n",
    "    if arr[m] <= target:\n",
    "        # start to middle\n",
    "        binarySearch(arr, target, )\n",
    "    if arr[m] >= target:\n",
    "        # middle to end\n",
    "        binarySearch(arr, target, )"
   ]
  },
  {
   "cell_type": "code",
   "execution_count": 8,
   "metadata": {},
   "outputs": [],
   "source": [
    "def recBinarySearch (arr, target, low, high):\n",
    "    if low > high: #base case 1: item not found\n",
    "        return -1\n",
    "    \n",
    "    mid = (low + high) // 2\n",
    "\n",
    "    if arr[mid] == target: #base case 2: item found\n",
    "        return mid\n",
    "    elif arr[mid] < target: #recursive step search right\n",
    "        return recBinarySearch(arr, target, mid + 1, high)\n",
    "    else: # recursive step search left\n",
    "        return recBinarySearch(arr, target, low, mid - 1)\n",
    "    \n",
    "    \n"
   ]
  },
  {
   "cell_type": "code",
   "execution_count": 9,
   "metadata": {},
   "outputs": [],
   "source": [
    "def iterativeBinarySearch(arr, target):\n",
    "    low = 0\n",
    "    high = len(arr) - 1\n",
    "\n",
    "    while low <= high:\n",
    "        mid = (low + high) // 2\n",
    "    if arr[mid] == target:\n",
    "        return mid\n",
    "    elif arr[mid] < target:\n",
    "        low = mid + 1\n",
    "    else:\n",
    "        high = mid - 1\n",
    "    return -1"
   ]
  },
  {
   "cell_type": "code",
   "execution_count": null,
   "metadata": {},
   "outputs": [],
   "source": [
    "arrSizes = [100, 10000, 1000000]\n",
    "for size in arrSizes:\n",
    "    randArr = sorted(random.sample(range(size*2), size))\n",
    "    target = -1\n",
    "\n",
    "    startTime = time.time()\n",
    "    linearSearch(randArr, target)\n",
    "    linearDuration = time.time() - startTime\n",
    "    \n",
    "    startTime = time.time()\n",
    "    recBinarySearch(randArr, target, 0, size-1)\n",
    "    binaryDuration = time.time() - startTime\n",
    "\n",
    "    print(f\"Array Size: {size}\")\n",
    "    print(f\"Linear Search Time: {linearDuration :.6f} seconds\")\n",
    "    print(f\"Binary Search Time: {binaryDuration :.6f} seconds\\n\")"
   ]
  },
  {
   "cell_type": "code",
   "execution_count": null,
   "metadata": {},
   "outputs": [],
   "source": [
    "def add(a, b):\n",
    "    return a + b\n",
    "\n",
    "result = add(2, 3)\n",
    "expected = 5\n",
    "\n",
    "if result == expected:\n",
    "    print(\"Test pass!\")\n",
    "else:\n",
    "    print(\"Test fail!\")"
   ]
  },
  {
   "cell_type": "code",
   "execution_count": null,
   "metadata": {},
   "outputs": [],
   "source": [
    "import unittest\n",
    "\n",
    "class TestAddOpperation(unittest.TestCase):\n",
    "    def test_add(self):\n",
    "        self.assertEqual(add(2, 3), 5)\n",
    "        self.assertEqual(add(-1, 1), 0)\n",
    "        self.assertEqual(add(0, 0), 0)"
   ]
  },
  {
   "cell_type": "code",
   "execution_count": 1,
   "metadata": {},
   "outputs": [
    {
     "name": "stderr",
     "output_type": "stream",
     "text": [
      "...."
     ]
    },
    {
     "name": "stderr",
     "output_type": "stream",
     "text": [
      "..\n",
      "----------------------------------------------------------------------\n",
      "Ran 6 tests in 0.003s\n",
      "\n",
      "OK\n"
     ]
    },
    {
     "data": {
      "text/plain": [
       "<unittest.main.TestProgram at 0x13efeb43950>"
      ]
     },
     "execution_count": 1,
     "metadata": {},
     "output_type": "execute_result"
    }
   ],
   "source": [
    "import unittest\n",
    "\n",
    "special = set(\"!@#$%^&*()_+-=[]{};':\\\",./<>?\\\\|`~\")\n",
    "\n",
    "def checkPassword(psd):\n",
    "    if len(psd) < 7:\n",
    "        return False\n",
    "    if \" \" in psd:\n",
    "        return False\n",
    "    digit = any(char.isdigit() for char in psd)\n",
    "    upper = any(char.isupper() for char in psd)\n",
    "    lower =  any(char.islower() for char in psd)\n",
    "    special_check = any(char in special for char in psd)\n",
    "\n",
    "    if digit and upper and lower and special_check == True:\n",
    "        return True\n",
    "    else:\n",
    "        return False\n",
    "# length must be greater than 7\n",
    "# must have at least one uppercase, one lowercase, one digit, and one special character\n",
    "#spaces are not allowed\n",
    "class testPassword(unittest.TestCase):\n",
    "    def testValidP(self):\n",
    "        self.assertTrue(checkPassword(\"Secure@123\"))\n",
    "        self.assertFalse(checkPassword(\"A@1b\"))\n",
    "    \n",
    "    def testUpper(self):\n",
    "        self.assertFalse(checkPassword(\"secure@123\"))\n",
    "    \n",
    "    def testLower(self):\n",
    "        self.assertFalse(checkPassword(\"SECURE@123\"))\n",
    "\n",
    "    def testDigit(self):\n",
    "        self.assertFalse(checkPassword(\"Secure@word\"))\n",
    "\n",
    "    def testSpecial(self):\n",
    "        self.assertFalse(checkPassword(\"Secure123\"))\n",
    "\n",
    "    def testSpace(self):\n",
    "        self.assertFalse(checkPassword(\"Secure @123\"))\n",
    "\n",
    "\n",
    "unittest.main(argv=['first-arg-is-ignored'], exit=False)\n"
   ]
  }
 ],
 "metadata": {
  "kernelspec": {
   "display_name": "Python 3",
   "language": "python",
   "name": "python3"
  },
  "language_info": {
   "codemirror_mode": {
    "name": "ipython",
    "version": 3
   },
   "file_extension": ".py",
   "mimetype": "text/x-python",
   "name": "python",
   "nbconvert_exporter": "python",
   "pygments_lexer": "ipython3",
   "version": "3.12.6"
  }
 },
 "nbformat": 4,
 "nbformat_minor": 2
}
