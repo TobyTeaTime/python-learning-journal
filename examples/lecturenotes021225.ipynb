{
 "cells": [
  {
   "cell_type": "code",
   "execution_count": null,
   "metadata": {},
   "outputs": [],
   "source": [
    "arrSizes = [100, 10000, 1000000]\n",
    "for size in arrSizes:\n",
    "    randArr = sorted(random.sample(range(size*2), size))\n",
    "    target = -1\n",
    "\n",
    "    startTime = time.time()\n",
    "    linearSearch(randArr, target)\n",
    "    linearDuration = time.time - startTime\n",
    "    \n",
    "    startTime = time.time()\n",
    "    binarysearch(randArr, target, 0, size-1)\n",
    "    binaryDuration = time.time() - startTime\n",
    "\n",
    "    print(f\"Array Size: {size}\")\n",
    "    print(f\"Linear Search Time: {linearDuration :. 6f} seconds\")\n",
    "    print(f\"Binary Search Time: {binaryDuration :. 6f} seconds\\n\")"
   ]
  }
 ],
 "metadata": {
  "kernelspec": {
   "display_name": "Python 3",
   "language": "python",
   "name": "python3"
  },
  "language_info": {
   "name": "python",
   "version": "3.12.6"
  }
 },
 "nbformat": 4,
 "nbformat_minor": 2
}
